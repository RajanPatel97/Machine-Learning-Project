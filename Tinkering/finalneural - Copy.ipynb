{
 "cells": [
  {
   "cell_type": "code",
   "execution_count": 2,
   "metadata": {},
   "outputs": [],
   "source": [
    "# Import pandas \n",
    "import pandas as pd\n",
    "import numpy as np\n",
    "from sklearn.preprocessing import StandardScaler\n",
    "from sklearn.model_selection import train_test_split\n",
    "import matplotlib.pyplot as plt\n",
    "%matplotlib inline\n",
    "\n",
    "import seaborn as sns\n",
    "\n",
    "\n",
    "# Read in white wine data \n",
    "white = pd.read_csv(\"http://archive.ics.uci.edu/ml/machine-learning-databases/wine-quality/winequality-white.csv\", sep=';')\n",
    "\n",
    "# Read in red wine data \n",
    "red = pd.read_csv(\"http://archive.ics.uci.edu/ml/machine-learning-databases/wine-quality/winequality-red.csv\", sep=';')"
   ]
  },
  {
   "cell_type": "code",
   "execution_count": 3,
   "metadata": {},
   "outputs": [],
   "source": [
    "# Add `type` column to `red` with value 1\n",
    "red['type'] = 1\n",
    "\n",
    "# Add `type` column to `white` with value 0\n",
    "white['type'] = 0\n",
    "\n",
    "# Append `white` to `red`\n",
    "wines = red.append(white, ignore_index=True)"
   ]
  },
  {
   "cell_type": "code",
   "execution_count": 4,
   "metadata": {},
   "outputs": [],
   "source": [
    "y = wines.quality\n",
    "X = wines.drop(['quality', 'residual sugar', 'free sulfur dioxide', 'type'], axis=1)\n",
    "\n",
    "\n",
    "X_train, X_test, y_train, y_test = train_test_split(X, y, test_size=0.1, random_state=46, stratify=y)\n",
    "\n",
    "# Define the scaler \n",
    "scaler = StandardScaler().fit(X_train)\n",
    "\n",
    "# Scale the train set\n",
    "X_train_scaled = scaler.transform(X_train)\n",
    "\n",
    "# Scale the test set\n",
    "X_test_scaled = scaler.transform(X_test)"
   ]
  },
  {
   "cell_type": "code",
   "execution_count": 5,
   "metadata": {},
   "outputs": [
    {
     "name": "stderr",
     "output_type": "stream",
     "text": [
      "Using TensorFlow backend.\n"
     ]
    }
   ],
   "source": [
    "from sklearn.model_selection import GridSearchCV\n",
    "from keras.wrappers.scikit_learn import KerasRegressor\n",
    "from keras.models import Sequential\n",
    "from keras import layers, optimizers, regularizers\n",
    "from keras.layers import Dense, Dropout, BatchNormalization, Activation\n",
    "from keras import metrics\n",
    "\n",
    "from keras.utils import plot_model\n",
    "#from kt_utils import *\n",
    "import keras.backend as K\n",
    "from sklearn import preprocessing, model_selection "
   ]
  },
  {
   "cell_type": "code",
   "execution_count": 6,
   "metadata": {},
   "outputs": [],
   "source": [
    "def create_model():\n",
    "    # create model\n",
    "    model = Sequential()\n",
    "    # layer 1\n",
    "    model.add(Dense(9, input_dim=9, activation='relu'))\n",
    "    #layer 2\n",
    "    model.add(Dense(50, activation='relu'))\n",
    "    #layer 4\n",
    "    model.add(Dense(1, activation='linear'))\n",
    "    \n",
    "    # Compile model\n",
    "    model.compile(optimizer = 'adam', loss='mean_squared_error', metrics=['accuracy'])\n",
    "    return model\n",
    "\n",
    "# fix random seed for reproducibility\n",
    "seed = 7\n",
    "np.random.seed(seed)\n",
    "\n",
    "# create model\n",
    "model = KerasRegressor(build_fn=create_model, verbose=0)\n",
    "\n",
    "# define the grid search parameters\n",
    "batch_size = [100,150,200,250,300]\n",
    "epochs = [5,10,20,40,60,80,100]\n",
    "param_grid = dict(batch_size=batch_size, epochs=epochs)\n",
    "grid = GridSearchCV(estimator=model, param_grid=param_grid, n_jobs=1)\n",
    "grid_result = grid.fit(X_train_scaled, y_train)"
   ]
  },
  {
   "cell_type": "code",
   "execution_count": 7,
   "metadata": {},
   "outputs": [
    {
     "name": "stdout",
     "output_type": "stream",
     "text": [
      "Best: -0.521120 using {'batch_size': 100, 'epochs': 100}\n",
      "2.407693 (0.437532) with: {'batch_size': 100, 'epochs': 5}\n",
      "1.383222 (0.107602) with: {'batch_size': 100, 'epochs': 10}\n",
      "0.785371 (0.036050) with: {'batch_size': 100, 'epochs': 20}\n",
      "0.573435 (0.015241) with: {'batch_size': 100, 'epochs': 40}\n",
      "0.536456 (0.023081) with: {'batch_size': 100, 'epochs': 60}\n",
      "0.526839 (0.020632) with: {'batch_size': 100, 'epochs': 80}\n",
      "0.521120 (0.018569) with: {'batch_size': 100, 'epochs': 100}\n",
      "3.343227 (0.786253) with: {'batch_size': 150, 'epochs': 5}\n",
      "2.010202 (0.132539) with: {'batch_size': 150, 'epochs': 10}\n",
      "1.162233 (0.079046) with: {'batch_size': 150, 'epochs': 20}\n",
      "0.615142 (0.058519) with: {'batch_size': 150, 'epochs': 40}\n",
      "0.561602 (0.010057) with: {'batch_size': 150, 'epochs': 60}\n",
      "0.543537 (0.020609) with: {'batch_size': 150, 'epochs': 80}\n",
      "0.539558 (0.010136) with: {'batch_size': 150, 'epochs': 100}\n",
      "5.647461 (2.471679) with: {'batch_size': 200, 'epochs': 5}\n",
      "2.108881 (0.352540) with: {'batch_size': 200, 'epochs': 10}\n",
      "1.347761 (0.032083) with: {'batch_size': 200, 'epochs': 20}\n",
      "0.758195 (0.029169) with: {'batch_size': 200, 'epochs': 40}\n",
      "0.619393 (0.029334) with: {'batch_size': 200, 'epochs': 60}\n",
      "0.559405 (0.029584) with: {'batch_size': 200, 'epochs': 80}\n",
      "0.547175 (0.017798) with: {'batch_size': 200, 'epochs': 100}\n",
      "12.355972 (0.347979) with: {'batch_size': 250, 'epochs': 5}\n",
      "2.543157 (0.162938) with: {'batch_size': 250, 'epochs': 10}\n",
      "1.564534 (0.053393) with: {'batch_size': 250, 'epochs': 20}\n",
      "1.037921 (0.052573) with: {'batch_size': 250, 'epochs': 40}\n",
      "0.686635 (0.040631) with: {'batch_size': 250, 'epochs': 60}\n",
      "0.573060 (0.023807) with: {'batch_size': 250, 'epochs': 80}\n",
      "0.549359 (0.023237) with: {'batch_size': 250, 'epochs': 100}\n",
      "13.753912 (1.912140) with: {'batch_size': 300, 'epochs': 5}\n",
      "3.855709 (0.641270) with: {'batch_size': 300, 'epochs': 10}\n",
      "1.804021 (0.079058) with: {'batch_size': 300, 'epochs': 20}\n",
      "1.111515 (0.048729) with: {'batch_size': 300, 'epochs': 40}\n",
      "0.742049 (0.042241) with: {'batch_size': 300, 'epochs': 60}\n",
      "0.608740 (0.018735) with: {'batch_size': 300, 'epochs': 80}\n",
      "0.583243 (0.030993) with: {'batch_size': 300, 'epochs': 100}\n"
     ]
    }
   ],
   "source": [
    "# summarize results\n",
    "print(\"Best: %f using %s\" % (grid_result.best_score_, grid_result.best_params_))\n",
    "means = grid_result.cv_results_['mean_test_score']\n",
    "stds = grid_result.cv_results_['std_test_score']\n",
    "params = grid_result.cv_results_['params']\n",
    "for mean, stdev, param in zip(means, stds, params):\n",
    "    print(\"%f (%f) with: %r\" % (abs(mean), stdev, param))"
   ]
  },
  {
   "cell_type": "code",
   "execution_count": 9,
   "metadata": {},
   "outputs": [],
   "source": [
    "#Use scikit-learn to grid search the number of neurons\n",
    "def create_model(neurons=1):\n",
    "    # create model\n",
    "    model = Sequential()\n",
    "    # layer 1\n",
    "    model.add(Dense(9, input_dim=9, activation='relu', kernel_initializer='uniform'))\n",
    "    #layer 2\n",
    "    model.add(Dense(neurons, activation='relu', kernel_initializer='uniform'))\n",
    "    model.add(Dropout(0.5))\n",
    "    #layer 3\n",
    "    model.add(Dense(1, activation='linear', kernel_initializer='uniform'))\n",
    "    \n",
    "    # Compile model\n",
    "    model.compile(optimizer = 'adam', loss='mean_squared_error', metrics=['accuracy'])\n",
    "    return model\n",
    "\n",
    "\n",
    "# fix random seed for reproducibility\n",
    "seed = 7\n",
    "np.random.seed(seed)\n",
    "\n",
    "# create model\n",
    "model = KerasRegressor(build_fn=create_model, epochs=100, batch_size=100, verbose=0)\n",
    "# define the grid search parameters\n",
    "neurons = [1, 5, 10, 20, 40, 60, 80, 100]\n",
    "param_grid = dict(neurons=neurons)\n",
    "grid = GridSearchCV(estimator=model, param_grid=param_grid, n_jobs=1)\n",
    "grid_result = grid.fit(X_train_scaled, y_train)"
   ]
  },
  {
   "cell_type": "code",
   "execution_count": 10,
   "metadata": {},
   "outputs": [
    {
     "name": "stdout",
     "output_type": "stream",
     "text": [
      "Best: -0.550257 using {'neurons': 100}\n",
      "-3.886984 (2.029062) with: {'neurons': 1}\n",
      "-1.323703 (0.149754) with: {'neurons': 5}\n",
      "-0.855838 (0.141245) with: {'neurons': 10}\n",
      "-0.637310 (0.026796) with: {'neurons': 20}\n",
      "-0.578976 (0.003007) with: {'neurons': 40}\n",
      "-0.564392 (0.014132) with: {'neurons': 60}\n",
      "-0.553587 (0.023066) with: {'neurons': 80}\n",
      "-0.550257 (0.010495) with: {'neurons': 100}\n"
     ]
    }
   ],
   "source": [
    "# summarize results\n",
    "print(\"Best: %f using %s\" % (grid_result.best_score_, grid_result.best_params_))\n",
    "means = grid_result.cv_results_['mean_test_score']\n",
    "stds = grid_result.cv_results_['std_test_score']\n",
    "params = grid_result.cv_results_['params']\n",
    "for mean, stdev, param in zip(means, stds, params):\n",
    "    print(\"%f (%f) with: %r\" % (mean, stdev, param))"
   ]
  },
  {
   "cell_type": "code",
   "execution_count": 11,
   "metadata": {},
   "outputs": [],
   "source": [
    "def create_model(hidden_layers=1):\n",
    "    # create model\n",
    "    model = Sequential()\n",
    "    # layer 1\n",
    "    model.add(Dense(9, input_dim=9, activation='relu', kernel_initializer='uniform'))\n",
    "    \n",
    "    #hidden layers\n",
    "    for i in range(hidden_layers):\n",
    "        # Add one hidden layer\n",
    "        model.add(Dense(100, activation='relu',  kernel_initializer='uniform'))\n",
    "    \n",
    "    #layer 4\n",
    "    model.add(Dense(1, activation='linear',  kernel_initializer='uniform'))\n",
    "    \n",
    "    # Compile model\n",
    "    model.compile(optimizer = 'adam', loss='mean_squared_error', metrics=['accuracy'])\n",
    "    return model\n",
    "\n",
    "\n",
    "# fix random seed for reproducibility\n",
    "seed = 7\n",
    "np.random.seed(seed)\n",
    "\n",
    "# create model\n",
    "model = KerasRegressor(build_fn=create_model, batch_size=100, verbose=0, epochs=100)\n",
    "# define the grid search parameters\n",
    "hidden_layers = [1,2,3,4]\n",
    "param_grid = dict(hidden_layers = hidden_layers)\n",
    "grid = GridSearchCV(estimator=model, param_grid=param_grid, n_jobs=1)\n",
    "grid_result = grid.fit(X_train_scaled, y_train)\n"
   ]
  },
  {
   "cell_type": "code",
   "execution_count": 12,
   "metadata": {},
   "outputs": [
    {
     "name": "stdout",
     "output_type": "stream",
     "text": [
      "Best: -0.518887 using {'hidden_layers': 4}\n",
      "-0.522053 (0.020351) with: {'hidden_layers': 1}\n",
      "-0.535810 (0.013816) with: {'hidden_layers': 2}\n",
      "-0.524399 (0.016212) with: {'hidden_layers': 3}\n",
      "-0.518887 (0.018719) with: {'hidden_layers': 4}\n"
     ]
    }
   ],
   "source": [
    "# summarize results\n",
    "print(\"Best: %f using %s\" % (grid_result.best_score_, grid_result.best_params_))\n",
    "means = grid_result.cv_results_['mean_test_score']\n",
    "stds = grid_result.cv_results_['std_test_score']\n",
    "params = grid_result.cv_results_['params']\n",
    "for mean, stdev, param in zip(means, stds, params):\n",
    "    print(\"%f (%f) with: %r\" % (mean, stdev, param))"
   ]
  },
  {
   "cell_type": "code",
   "execution_count": 13,
   "metadata": {},
   "outputs": [],
   "source": [
    "# Use scikit-learn to grid search the activation function\n",
    "def create_model(activation='relu'):\n",
    "    # create model\n",
    "    model = Sequential()\n",
    "    # layer 1\n",
    "    model.add(Dense(9, input_dim=9, activation='relu', kernel_initializer='uniform'))\n",
    "    #layer 3\n",
    "    model.add(Dense(100, activation=activation, kernel_initializer='uniform'))\n",
    "    #layer 4\n",
    "    model.add(Dense(1, activation='linear', kernel_initializer='uniform'))\n",
    "    \n",
    "    # Compile model\n",
    "    model.compile(optimizer = 'adam', loss='mean_squared_error', metrics=['accuracy'])\n",
    "    return model\n",
    "\n",
    "\n",
    "# fix random seed for reproducibility\n",
    "seed = 7\n",
    "np.random.seed(seed)\n",
    "\n",
    "# create model\n",
    "model = KerasRegressor(build_fn=create_model, epochs=100, batch_size=100, verbose=0)\n",
    "# define the grid search parameters\n",
    "activation = ['relu', 'tanh', 'sigmoid', 'hard_sigmoid', 'linear']\n",
    "param_grid = dict(activation=activation)\n",
    "grid = GridSearchCV(estimator=model, param_grid=param_grid, n_jobs=1)\n",
    "grid_result = grid.fit(X_train_scaled, y_train)"
   ]
  },
  {
   "cell_type": "code",
   "execution_count": 14,
   "metadata": {},
   "outputs": [
    {
     "name": "stdout",
     "output_type": "stream",
     "text": [
      "Best: -0.521276 using {'activation': 'relu'}\n",
      "-0.521276 (0.018795) with: {'activation': 'relu'}\n",
      "-0.545329 (0.021799) with: {'activation': 'tanh'}\n",
      "-0.542919 (0.017470) with: {'activation': 'sigmoid'}\n",
      "-0.548575 (0.023807) with: {'activation': 'hard_sigmoid'}\n",
      "-0.539176 (0.014152) with: {'activation': 'linear'}\n"
     ]
    }
   ],
   "source": [
    "# summarize results\n",
    "print(\"Best: %f using %s\" % (grid_result.best_score_, grid_result.best_params_))\n",
    "means = grid_result.cv_results_['mean_test_score']\n",
    "stds = grid_result.cv_results_['std_test_score']\n",
    "params = grid_result.cv_results_['params']\n",
    "for mean, stdev, param in zip(means, stds, params):\n",
    "    print(\"%f (%f) with: %r\" % (mean, stdev, param))"
   ]
  },
  {
   "cell_type": "code",
   "execution_count": 24,
   "metadata": {},
   "outputs": [],
   "source": [
    "from keras.optimizers import Adam\n",
    "def create_model(learn_rate=0.01, momentum=0):\n",
    "    # create model\n",
    "    model = Sequential()\n",
    "    # layer 1\n",
    "    model.add(Dense(9, input_dim=9, activation='relu'))\n",
    "    #layer 2\n",
    "    model.add(Dense(100, activation='relu'))\n",
    "    #layer 3\n",
    "    model.add(Dense(1, activation='linear'))\n",
    "    optimizer = Adam(lr=learn_rate)\n",
    "    # Compile model\n",
    "    model.compile(optimizer = optimizer, loss='mean_squared_error', metrics=['accuracy'])\n",
    "    return model\n",
    "\n",
    "import numpy as np\n",
    "# fix random seed for reproducibility\n",
    "seed = 7\n",
    "np.random.seed(seed)\n",
    "\n",
    "# create model\n",
    "model = KerasRegressor(build_fn=create_model, epochs=100, batch_size=100, verbose=0)\n",
    "# define the grid search parameters\n",
    "learn_rate = [0.001, 0.01, 0.1, 0.2, 0.3]\n",
    "param_grid = dict(learn_rate=learn_rate)\n",
    "grid = GridSearchCV(estimator=model, param_grid=param_grid, n_jobs=1)\n",
    "grid_result = grid.fit(X_train_scaled, y_train)"
   ]
  },
  {
   "cell_type": "code",
   "execution_count": 25,
   "metadata": {},
   "outputs": [
    {
     "name": "stdout",
     "output_type": "stream",
     "text": [
      "Best: -0.526252 using {'learn_rate': 0.001}\n",
      "-0.526252 (0.021165) with: {'learn_rate': 0.001}\n",
      "-0.533763 (0.017367) with: {'learn_rate': 0.01}\n",
      "-0.541151 (0.013768) with: {'learn_rate': 0.1}\n",
      "-0.715966 (0.086021) with: {'learn_rate': 0.2}\n",
      "-0.767468 (0.029794) with: {'learn_rate': 0.3}\n"
     ]
    }
   ],
   "source": [
    "# summarize results\n",
    "print(\"Best: %f using %s\" % (grid_result.best_score_, grid_result.best_params_))\n",
    "means = grid_result.cv_results_['mean_test_score']\n",
    "stds = grid_result.cv_results_['std_test_score']\n",
    "params = grid_result.cv_results_['params']\n",
    "for mean, stdev, param in zip(means, stds, params):\n",
    "    print(\"%f (%f) with: %r\" % (mean, stdev, param))"
   ]
  },
  {
   "cell_type": "code",
   "execution_count": null,
   "metadata": {},
   "outputs": [],
   "source": []
  }
 ],
 "metadata": {
  "kernelspec": {
   "display_name": "Python 3",
   "language": "python",
   "name": "python3"
  },
  "language_info": {
   "codemirror_mode": {
    "name": "ipython",
    "version": 3
   },
   "file_extension": ".py",
   "mimetype": "text/x-python",
   "name": "python",
   "nbconvert_exporter": "python",
   "pygments_lexer": "ipython3",
   "version": "3.6.4"
  }
 },
 "nbformat": 4,
 "nbformat_minor": 2
}
