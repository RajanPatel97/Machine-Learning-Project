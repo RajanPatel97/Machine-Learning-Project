{
 "cells": [
  {
   "cell_type": "code",
   "execution_count": 1,
   "metadata": {},
   "outputs": [],
   "source": [
    "# Import pandas \n",
    "import pandas as pd\n",
    "import numpy as np\n",
    "from sklearn.preprocessing import StandardScaler\n",
    "from sklearn.model_selection import train_test_split\n",
    "import matplotlib.pyplot as plt\n",
    "%matplotlib inline\n",
    "\n",
    "import seaborn as sns\n",
    "\n",
    "\n",
    "# Read in white wine data \n",
    "white = pd.read_csv(\"http://archive.ics.uci.edu/ml/machine-learning-databases/wine-quality/winequality-white.csv\", sep=';')\n",
    "\n",
    "# Read in red wine data \n",
    "red = pd.read_csv(\"http://archive.ics.uci.edu/ml/machine-learning-databases/wine-quality/winequality-red.csv\", sep=';')"
   ]
  },
  {
   "cell_type": "code",
   "execution_count": 2,
   "metadata": {},
   "outputs": [],
   "source": [
    "# Add `type` column to `red` with value 1\n",
    "red['type'] = 1\n",
    "\n",
    "# Add `type` column to `white` with value 0\n",
    "white['type'] = 0\n",
    "\n",
    "# Append `white` to `red`\n",
    "wines = red.append(white, ignore_index=True)"
   ]
  },
  {
   "cell_type": "code",
   "execution_count": 3,
   "metadata": {},
   "outputs": [],
   "source": [
    "y = wines.quality\n",
    "X = wines.drop(['quality', 'residual sugar', 'free sulfur dioxide', 'type'], axis=1)\n",
    "\n",
    "\n",
    "X_train, X_test, y_train, y_test = train_test_split(X, y, test_size=0.1, random_state=46, stratify=y)\n",
    "\n",
    "# Define the scaler \n",
    "scaler = StandardScaler().fit(X_train)\n",
    "\n",
    "# Scale the train set\n",
    "X_train_scaled = scaler.transform(X_train)\n",
    "\n",
    "# Scale the test set\n",
    "X_test_scaled = scaler.transform(X_test)"
   ]
  },
  {
   "cell_type": "code",
   "execution_count": 4,
   "metadata": {},
   "outputs": [
    {
     "name": "stderr",
     "output_type": "stream",
     "text": [
      "Using TensorFlow backend.\n"
     ]
    }
   ],
   "source": [
    "from sklearn.model_selection import GridSearchCV\n",
    "from keras.wrappers.scikit_learn import KerasRegressor\n",
    "from keras.models import Sequential\n",
    "from keras import layers, optimizers, regularizers\n",
    "from keras.layers import Dense, Dropout, BatchNormalization, Activation\n",
    "from keras import metrics\n",
    "\n",
    "from keras.utils import plot_model\n",
    "#from kt_utils import *\n",
    "import keras.backend as K\n",
    "from sklearn import preprocessing, model_selection "
   ]
  },
  {
   "cell_type": "code",
   "execution_count": 8,
   "metadata": {},
   "outputs": [],
   "source": [
    "def create_model():\n",
    "    # create model\n",
    "    model = Sequential()\n",
    "    # layer 1\n",
    "    model.add(Dense(9, input_dim=9, activation='relu', kernel_initializer='normal') )\n",
    "    #layer 2\n",
    "    model.add(Dense(50, activation='relu', kernel_initializer='normal'))\n",
    "    #layer 4\n",
    "    model.add(Dense(1, activation='linear'))\n",
    "\n",
    "    # Compile model\n",
    "    model.compile(optimizer = 'adam', loss='mean_squared_error', metrics=['accuracy'])\n",
    "    return model\n",
    "\n",
    "# fix random seed for reproducibility\n",
    "seed = 7\n",
    "np.random.seed(seed)\n",
    "\n",
    "# create model\n",
    "model = KerasRegressor(build_fn=create_model, verbose=0)\n",
    "\n",
    "# define the grid search parameters\n",
    "batch_size = [100,150,200,250,300]\n",
    "epochs = [5,10,20,40,60,80,100]\n",
    "param_grid = dict(batch_size=batch_size, epochs=epochs)\n",
    "grid = GridSearchCV(estimator=model, param_grid=param_grid, n_jobs=1)\n",
    "grid_result = grid.fit(X_train_scaled, y_train)"
   ]
  },
  {
   "cell_type": "code",
   "execution_count": 9,
   "metadata": {},
   "outputs": [
    {
     "name": "stdout",
     "output_type": "stream",
     "text": [
      "Best: -0.525015 using {'batch_size': 100, 'epochs': 100}\n",
      "1.572110 (0.059532) with: {'batch_size': 100, 'epochs': 5}\n",
      "0.859701 (0.062042) with: {'batch_size': 100, 'epochs': 10}\n",
      "0.594925 (0.033192) with: {'batch_size': 100, 'epochs': 20}\n",
      "0.544477 (0.023696) with: {'batch_size': 100, 'epochs': 40}\n",
      "0.527681 (0.016331) with: {'batch_size': 100, 'epochs': 60}\n",
      "0.528151 (0.012832) with: {'batch_size': 100, 'epochs': 80}\n",
      "0.525015 (0.016092) with: {'batch_size': 100, 'epochs': 100}\n",
      "2.312010 (0.153492) with: {'batch_size': 150, 'epochs': 5}\n",
      "1.096744 (0.101546) with: {'batch_size': 150, 'epochs': 10}\n",
      "0.756783 (0.062563) with: {'batch_size': 150, 'epochs': 20}\n",
      "0.554815 (0.024501) with: {'batch_size': 150, 'epochs': 40}\n",
      "0.533374 (0.016784) with: {'batch_size': 150, 'epochs': 60}\n",
      "0.534271 (0.022964) with: {'batch_size': 150, 'epochs': 80}\n",
      "0.530860 (0.015998) with: {'batch_size': 150, 'epochs': 100}\n",
      "7.035172 (0.957605) with: {'batch_size': 200, 'epochs': 5}\n",
      "1.536351 (0.128566) with: {'batch_size': 200, 'epochs': 10}\n",
      "0.848414 (0.027704) with: {'batch_size': 200, 'epochs': 20}\n",
      "0.586347 (0.008140) with: {'batch_size': 200, 'epochs': 40}\n",
      "0.549615 (0.024174) with: {'batch_size': 200, 'epochs': 60}\n",
      "0.535473 (0.016015) with: {'batch_size': 200, 'epochs': 80}\n",
      "0.529606 (0.021014) with: {'batch_size': 200, 'epochs': 100}\n",
      "14.539618 (2.096169) with: {'batch_size': 250, 'epochs': 5}\n",
      "2.005621 (0.461090) with: {'batch_size': 250, 'epochs': 10}\n",
      "1.035188 (0.046155) with: {'batch_size': 250, 'epochs': 20}\n",
      "0.639047 (0.006971) with: {'batch_size': 250, 'epochs': 40}\n",
      "0.566812 (0.017891) with: {'batch_size': 250, 'epochs': 60}\n",
      "0.539639 (0.018079) with: {'batch_size': 250, 'epochs': 80}\n",
      "0.532096 (0.019686) with: {'batch_size': 250, 'epochs': 100}\n",
      "20.390184 (0.447617) with: {'batch_size': 300, 'epochs': 5}\n",
      "2.656953 (0.450868) with: {'batch_size': 300, 'epochs': 10}\n",
      "1.201760 (0.015255) with: {'batch_size': 300, 'epochs': 20}\n",
      "0.730096 (0.016539) with: {'batch_size': 300, 'epochs': 40}\n",
      "0.581985 (0.005572) with: {'batch_size': 300, 'epochs': 60}\n",
      "0.549140 (0.017399) with: {'batch_size': 300, 'epochs': 80}\n",
      "0.536031 (0.013442) with: {'batch_size': 300, 'epochs': 100}\n"
     ]
    }
   ],
   "source": [
    "# summarize results\n",
    "print(\"Best: %f using %s\" % (grid_result.best_score_, grid_result.best_params_))\n",
    "means = grid_result.cv_results_['mean_test_score']\n",
    "stds = grid_result.cv_results_['std_test_score']\n",
    "params = grid_result.cv_results_['params']\n",
    "for mean, stdev, param in zip(means, stds, params):\n",
    "    print(\"%f (%f) with: %r\" % (abs(mean), stdev, param))"
   ]
  },
  {
   "cell_type": "code",
   "execution_count": 10,
   "metadata": {},
   "outputs": [],
   "source": [
    "#Use scikit-learn to grid search the number of neurons\n",
    "def create_model(neurons=1):\n",
    "    # create model\n",
    "    model = Sequential()\n",
    "    # layer 1\n",
    "    model.add(Dense(9, input_dim=9, activation='relu', kernel_initializer='normal'))\n",
    "    #layer 2\n",
    "    model.add(Dense(neurons, activation='relu', kernel_initializer='normal'))\n",
    "    model.add(Dropout(0.5))\n",
    "    #layer 3\n",
    "    model.add(Dense(1, activation='linear'))\n",
    "    \n",
    "    # Compile model\n",
    "    model.compile(optimizer = 'adam', loss='mean_squared_error', metrics=['accuracy'])\n",
    "    return model\n",
    "\n",
    "\n",
    "# fix random seed for reproducibility\n",
    "seed = 7\n",
    "np.random.seed(seed)\n",
    "\n",
    "# create model\n",
    "model = KerasRegressor(build_fn=create_model, epochs=100, batch_size=100, verbose=0)\n",
    "# define the grid search parameters\n",
    "neurons = [1, 5, 10, 20, 40, 60, 80, 100]\n",
    "param_grid = dict(neurons=neurons)\n",
    "grid = GridSearchCV(estimator=model, param_grid=param_grid, n_jobs=1)\n",
    "grid_result = grid.fit(X_train_scaled, y_train)"
   ]
  },
  {
   "cell_type": "code",
   "execution_count": 11,
   "metadata": {},
   "outputs": [
    {
     "name": "stdout",
     "output_type": "stream",
     "text": [
      "Best: -0.552366 using {'neurons': 100}\n",
      "-3.871111 (2.040323) with: {'neurons': 1}\n",
      "-1.300060 (0.158649) with: {'neurons': 5}\n",
      "-0.948730 (0.098481) with: {'neurons': 10}\n",
      "-0.657123 (0.028053) with: {'neurons': 20}\n",
      "-0.594570 (0.004370) with: {'neurons': 40}\n",
      "-0.562028 (0.019666) with: {'neurons': 60}\n",
      "-0.553586 (0.022676) with: {'neurons': 80}\n",
      "-0.552366 (0.011894) with: {'neurons': 100}\n"
     ]
    }
   ],
   "source": [
    "# summarize results\n",
    "print(\"Best: %f using %s\" % (grid_result.best_score_, grid_result.best_params_))\n",
    "means = grid_result.cv_results_['mean_test_score']\n",
    "stds = grid_result.cv_results_['std_test_score']\n",
    "params = grid_result.cv_results_['params']\n",
    "for mean, stdev, param in zip(means, stds, params):\n",
    "    print(\"%f (%f) with: %r\" % (mean, stdev, param))"
   ]
  },
  {
   "cell_type": "code",
   "execution_count": 12,
   "metadata": {},
   "outputs": [],
   "source": [
    "def create_model(hidden_layers=1):\n",
    "    # create model\n",
    "    model = Sequential()\n",
    "    # layer 1\n",
    "    model.add(Dense(9, input_dim=9, activation='relu',kernel_initializer='normal'))\n",
    "    \n",
    "    #hidden layers\n",
    "    for i in range(hidden_layers):\n",
    "        # Add one hidden layer\n",
    "        model.add(Dense(100, activation='relu',  kernel_initializer='normal'))\n",
    "    \n",
    "    #layer 4\n",
    "    model.add(Dense(1, activation='linear'))\n",
    "    \n",
    "    # Compile model\n",
    "    model.compile(optimizer = 'adam', loss='mean_squared_error', metrics=['accuracy'])\n",
    "    return model\n",
    "\n",
    "\n",
    "# fix random seed for reproducibility\n",
    "seed = 7\n",
    "np.random.seed(seed)\n",
    "\n",
    "# create model\n",
    "model = KerasRegressor(build_fn=create_model, batch_size=100, verbose=0, epochs=100)\n",
    "# define the grid search parameters\n",
    "hidden_layers = [1,2,3,4]\n",
    "param_grid = dict(hidden_layers = hidden_layers)\n",
    "grid = GridSearchCV(estimator=model, param_grid=param_grid, n_jobs=1)\n",
    "grid_result = grid.fit(X_train_scaled, y_train)\n"
   ]
  },
  {
   "cell_type": "code",
   "execution_count": 13,
   "metadata": {},
   "outputs": [
    {
     "name": "stdout",
     "output_type": "stream",
     "text": [
      "Best: -0.513021 using {'hidden_layers': 4}\n",
      "-0.523631 (0.017416) with: {'hidden_layers': 1}\n",
      "-0.520083 (0.018230) with: {'hidden_layers': 2}\n",
      "-0.535171 (0.025213) with: {'hidden_layers': 3}\n",
      "-0.513021 (0.022293) with: {'hidden_layers': 4}\n"
     ]
    }
   ],
   "source": [
    "# summarize results\n",
    "print(\"Best: %f using %s\" % (grid_result.best_score_, grid_result.best_params_))\n",
    "means = grid_result.cv_results_['mean_test_score']\n",
    "stds = grid_result.cv_results_['std_test_score']\n",
    "params = grid_result.cv_results_['params']\n",
    "for mean, stdev, param in zip(means, stds, params):\n",
    "    print(\"%f (%f) with: %r\" % (mean, stdev, param))"
   ]
  },
  {
   "cell_type": "code",
   "execution_count": 16,
   "metadata": {},
   "outputs": [],
   "source": [
    "# Use scikit-learn to grid search the activation function\n",
    "def create_model(activation='relu'):\n",
    "    # create model\n",
    "    model = Sequential()\n",
    "    # layer 1\n",
    "    model.add(Dense(9, input_dim=9, activation='relu', kernel_initializer='normal'))\n",
    "    #layer 2\n",
    "    model.add(Dense(100, activation=activation,kernel_initializer='normal'))\n",
    "    #layer 3\n",
    "    model.add(Dense(100, activation=activation,kernel_initializer='normal'))\n",
    "    #layer 4\n",
    "    model.add(Dense(1, activation='linear'))\n",
    "    \n",
    "    # Compile model\n",
    "    model.compile(optimizer = 'adam', loss='mean_squared_error', metrics=['accuracy'])\n",
    "    return model\n",
    "\n",
    "\n",
    "# fix random seed for reproducibility\n",
    "seed = 7\n",
    "np.random.seed(seed)\n",
    "\n",
    "# create model\n",
    "model = KerasRegressor(build_fn=create_model, epochs=100, batch_size=100, verbose=0)\n",
    "# define the grid search parameters\n",
    "activation = ['relu', 'tanh', 'sigmoid', 'hard_sigmoid', 'linear']\n",
    "param_grid = dict(activation=activation)\n",
    "grid = GridSearchCV(estimator=model, param_grid=param_grid, n_jobs=1)\n",
    "grid_result = grid.fit(X_train_scaled, y_train)"
   ]
  },
  {
   "cell_type": "code",
   "execution_count": 17,
   "metadata": {},
   "outputs": [
    {
     "name": "stdout",
     "output_type": "stream",
     "text": [
      "Best: -0.529537 using {'activation': 'relu'}\n",
      "-0.529537 (0.024471) with: {'activation': 'relu'}\n",
      "-0.530304 (0.025810) with: {'activation': 'tanh'}\n",
      "-0.536448 (0.025079) with: {'activation': 'sigmoid'}\n",
      "-0.532614 (0.021519) with: {'activation': 'hard_sigmoid'}\n",
      "-0.539701 (0.026364) with: {'activation': 'linear'}\n"
     ]
    }
   ],
   "source": [
    "# summarize results\n",
    "print(\"Best: %f using %s\" % (grid_result.best_score_, grid_result.best_params_))\n",
    "means = grid_result.cv_results_['mean_test_score']\n",
    "stds = grid_result.cv_results_['std_test_score']\n",
    "params = grid_result.cv_results_['params']\n",
    "for mean, stdev, param in zip(means, stds, params):\n",
    "    print(\"%f (%f) with: %r\" % (mean, stdev, param))"
   ]
  },
  {
   "cell_type": "code",
   "execution_count": 19,
   "metadata": {},
   "outputs": [],
   "source": [
    "from keras.optimizers import Adam\n",
    "def create_model(learn_rate=0.01, momentum=0):\n",
    "    # create model\n",
    "    model = Sequential()\n",
    "    # layer 1\n",
    "    model.add(Dense(9, input_dim=9, activation='relu', kernel_initializer='normal'))\n",
    "    #layer 2\n",
    "    model.add(Dense(100, activation='relu', kernel_initializer='normal'))\n",
    "    #layer 3\n",
    "    model.add(Dense(100, activation='relu',kernel_initializer='normal'))\n",
    "    #layer 4\n",
    "    model.add(Dense(1, activation='linear'))\n",
    "    optimizer = Adam(lr=learn_rate)\n",
    "    # Compile model\n",
    "    model.compile(optimizer = optimizer, loss='mean_squared_error', metrics=['accuracy'])\n",
    "    return model\n",
    "\n",
    "import numpy as np\n",
    "# fix random seed for reproducibility\n",
    "seed = 7\n",
    "np.random.seed(seed)\n",
    "\n",
    "# create model\n",
    "model = KerasRegressor(build_fn=create_model, epochs=100, batch_size=100, verbose=0)\n",
    "# define the grid search parameters\n",
    "learn_rate = [0.001, 0.01, 0.1, 0.2, 0.3]\n",
    "param_grid = dict(learn_rate=learn_rate)\n",
    "grid = GridSearchCV(estimator=model, param_grid=param_grid, n_jobs=1)\n",
    "grid_result = grid.fit(X_train_scaled, y_train)"
   ]
  },
  {
   "cell_type": "code",
   "execution_count": 20,
   "metadata": {},
   "outputs": [
    {
     "name": "stdout",
     "output_type": "stream",
     "text": [
      "Best: -0.531070 using {'learn_rate': 0.001}\n",
      "-0.531070 (0.027230) with: {'learn_rate': 0.001}\n",
      "-0.532817 (0.015435) with: {'learn_rate': 0.01}\n",
      "-0.552399 (0.035265) with: {'learn_rate': 0.1}\n",
      "-0.770510 (0.032409) with: {'learn_rate': 0.2}\n",
      "-0.773951 (0.032957) with: {'learn_rate': 0.3}\n"
     ]
    }
   ],
   "source": [
    "# summarize results\n",
    "print(\"Best: %f using %s\" % (grid_result.best_score_, grid_result.best_params_))\n",
    "means = grid_result.cv_results_['mean_test_score']\n",
    "stds = grid_result.cv_results_['std_test_score']\n",
    "params = grid_result.cv_results_['params']\n",
    "for mean, stdev, param in zip(means, stds, params):\n",
    "    print(\"%f (%f) with: %r\" % (mean, stdev, param))"
   ]
  },
  {
   "cell_type": "code",
   "execution_count": null,
   "metadata": {},
   "outputs": [],
   "source": []
  }
 ],
 "metadata": {
  "kernelspec": {
   "display_name": "Python 3",
   "language": "python",
   "name": "python3"
  },
  "language_info": {
   "codemirror_mode": {
    "name": "ipython",
    "version": 3
   },
   "file_extension": ".py",
   "mimetype": "text/x-python",
   "name": "python",
   "nbconvert_exporter": "python",
   "pygments_lexer": "ipython3",
   "version": "3.6.4"
  }
 },
 "nbformat": 4,
 "nbformat_minor": 2
}
